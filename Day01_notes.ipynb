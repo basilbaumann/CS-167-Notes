{
  "nbformat": 4,
  "nbformat_minor": 0,
  "metadata": {
    "colab": {
      "provenance": [],
      "authorship_tag": "ABX9TyPlQgX5kqtTPPf7Ds3c90pA",
      "include_colab_link": true
    },
    "kernelspec": {
      "name": "python3",
      "display_name": "Python 3"
    },
    "language_info": {
      "name": "python"
    }
  },
  "cells": [
    {
      "cell_type": "markdown",
      "metadata": {
        "id": "view-in-github",
        "colab_type": "text"
      },
      "source": [
        "<a href=\"https://colab.research.google.com/github/basilbaumann/CS-167-Notes/blob/main/Day01_notes.ipynb\" target=\"_parent\"><img src=\"https://colab.research.google.com/assets/colab-badge.svg\" alt=\"Open In Colab\"/></a>"
      ]
    },
    {
      "cell_type": "code",
      "source": [
        "x = [1,2,3] \n",
        "y=x\n",
        "x[0] = \"abc\" \n",
        "print(y) \n",
        "#before you run, what will the value of y[0] be?\n",
        "#abc"
      ],
      "metadata": {
        "colab": {
          "base_uri": "https://localhost:8080/"
        },
        "id": "VXFEerYgd4f8",
        "outputId": "ca5a7bea-5203-4289-b3fe-78b5eb17287f"
      },
      "execution_count": 4,
      "outputs": [
        {
          "output_type": "stream",
          "name": "stdout",
          "text": [
            "['abc', 2, 3]\n"
          ]
        }
      ]
    },
    {
      "cell_type": "code",
      "execution_count": 2,
      "metadata": {
        "colab": {
          "base_uri": "https://localhost:8080/"
        },
        "id": "U8dcMrncVvjG",
        "outputId": "8d014fd1-a40c-49d2-ed48-632adc60afd7"
      },
      "outputs": [
        {
          "output_type": "stream",
          "name": "stdout",
          "text": [
            "[55, 'hello', 'R2D2', 7.8]\n",
            "[33, 55, 'hello', 'R2D2']\n",
            "[7.8, 'banana']\n",
            "[33, 55, 'hello', 'R2D2', 7.8, 'banana']\n",
            "[55, 'hello', 'what', 7.8]\n",
            "[33, 55, 'hello', 'R2D2', 7.8, 'banana']\n",
            "[55, 'hello', 'R2D2', 7.8, 'Drake', 'University', 'Drake', 'University']\n",
            "['Bulldogs', 33, 55, 'hello', 'R2D2', 7.8, 'banana']\n"
          ]
        }
      ],
      "source": [
        "\n",
        "\n",
        "#List Slices \n",
        "\n",
        "my_list = [33, 55, 'hello','R2D2',7.8,'banana']\n",
        "print( my_list[1:5] )\n",
        "print( my_list[:4])\n",
        "print( my_list[4:])\n",
        "print( my_list[:])\n",
        "\n",
        "my_slice = my_list[1:5]\n",
        "my_slice[2] = 'what'\n",
        "print(my_slice)\n",
        "print(my_list)\n",
        "print(my_list[1:5] + 2*['Drake','University'])\n",
        "my_list[:0] = ['Bulldogs']\n",
        "print(my_list)\n",
        "# why isn't \"Drake\" or \"University\" printed out in this last line?\n"
      ]
    },
    {
      "cell_type": "code",
      "source": [
        "#you should be able to run this without any issue.\n",
        "import pandas as pd"
      ],
      "metadata": {
        "id": "gKQowkw3e_JI"
      },
      "execution_count": 12,
      "outputs": []
    },
    {
      "cell_type": "code",
      "source": [
        "from google.colab import drive\n",
        "drive.mount('/content/drive')\n",
        "\n",
        "#Download the restaurant data (it's in Blackboard under 'datasets'), and put it in your Google Drive. Make a note of the path\n",
        "#I would suggest creating a datasets folder somewhere easy to get to, we'll be using this a lot.\n",
        "# your path will look like '/content/drive/MyDrive/....wherever you put the data'\n",
        "\n",
        "#change the following line so that it points to where you put restaurant.csv.\n",
        "data = pd.read_csv('/content/drive/MyDrive/CS167/Data/restaurant.csv')\n",
        "data.head()\n"
      ],
      "metadata": {
        "colab": {
          "base_uri": "https://localhost:8080/",
          "height": 224
        },
        "id": "3H3e0ePFhqxz",
        "outputId": "b7322d09-156b-4ad3-ad23-5cd0339a5e8d"
      },
      "execution_count": 27,
      "outputs": [
        {
          "output_type": "stream",
          "name": "stdout",
          "text": [
            "Mounted at /content/drive\n"
          ]
        },
        {
          "output_type": "execute_result",
          "data": {
            "text/plain": [
              "   alt  bar  fri  hun   pat price rain  res    type    est target\n",
              "0  Yes   No   No  Yes  Some   $$$   No  Yes  French   0-10    Yes\n",
              "1  Yes   No   No  Yes  Full     $   No   No    Thai  30-60     No\n",
              "2   No  Yes   No   No  Some     $   No   No  Burger   0-10    Yes\n",
              "3  Yes   No  Yes  Yes  Full     $   No   No    Thai  10-30    Yes\n",
              "4  Yes   No  Yes   No  Full   $$$   No  Yes  French    >60     No"
            ],
            "text/html": [
              "\n",
              "  <div id=\"df-61cd2c45-3d7d-496b-99bf-5195b410aae6\">\n",
              "    <div class=\"colab-df-container\">\n",
              "      <div>\n",
              "<style scoped>\n",
              "    .dataframe tbody tr th:only-of-type {\n",
              "        vertical-align: middle;\n",
              "    }\n",
              "\n",
              "    .dataframe tbody tr th {\n",
              "        vertical-align: top;\n",
              "    }\n",
              "\n",
              "    .dataframe thead th {\n",
              "        text-align: right;\n",
              "    }\n",
              "</style>\n",
              "<table border=\"1\" class=\"dataframe\">\n",
              "  <thead>\n",
              "    <tr style=\"text-align: right;\">\n",
              "      <th></th>\n",
              "      <th>alt</th>\n",
              "      <th>bar</th>\n",
              "      <th>fri</th>\n",
              "      <th>hun</th>\n",
              "      <th>pat</th>\n",
              "      <th>price</th>\n",
              "      <th>rain</th>\n",
              "      <th>res</th>\n",
              "      <th>type</th>\n",
              "      <th>est</th>\n",
              "      <th>target</th>\n",
              "    </tr>\n",
              "  </thead>\n",
              "  <tbody>\n",
              "    <tr>\n",
              "      <th>0</th>\n",
              "      <td>Yes</td>\n",
              "      <td>No</td>\n",
              "      <td>No</td>\n",
              "      <td>Yes</td>\n",
              "      <td>Some</td>\n",
              "      <td>$$$</td>\n",
              "      <td>No</td>\n",
              "      <td>Yes</td>\n",
              "      <td>French</td>\n",
              "      <td>0-10</td>\n",
              "      <td>Yes</td>\n",
              "    </tr>\n",
              "    <tr>\n",
              "      <th>1</th>\n",
              "      <td>Yes</td>\n",
              "      <td>No</td>\n",
              "      <td>No</td>\n",
              "      <td>Yes</td>\n",
              "      <td>Full</td>\n",
              "      <td>$</td>\n",
              "      <td>No</td>\n",
              "      <td>No</td>\n",
              "      <td>Thai</td>\n",
              "      <td>30-60</td>\n",
              "      <td>No</td>\n",
              "    </tr>\n",
              "    <tr>\n",
              "      <th>2</th>\n",
              "      <td>No</td>\n",
              "      <td>Yes</td>\n",
              "      <td>No</td>\n",
              "      <td>No</td>\n",
              "      <td>Some</td>\n",
              "      <td>$</td>\n",
              "      <td>No</td>\n",
              "      <td>No</td>\n",
              "      <td>Burger</td>\n",
              "      <td>0-10</td>\n",
              "      <td>Yes</td>\n",
              "    </tr>\n",
              "    <tr>\n",
              "      <th>3</th>\n",
              "      <td>Yes</td>\n",
              "      <td>No</td>\n",
              "      <td>Yes</td>\n",
              "      <td>Yes</td>\n",
              "      <td>Full</td>\n",
              "      <td>$</td>\n",
              "      <td>No</td>\n",
              "      <td>No</td>\n",
              "      <td>Thai</td>\n",
              "      <td>10-30</td>\n",
              "      <td>Yes</td>\n",
              "    </tr>\n",
              "    <tr>\n",
              "      <th>4</th>\n",
              "      <td>Yes</td>\n",
              "      <td>No</td>\n",
              "      <td>Yes</td>\n",
              "      <td>No</td>\n",
              "      <td>Full</td>\n",
              "      <td>$$$</td>\n",
              "      <td>No</td>\n",
              "      <td>Yes</td>\n",
              "      <td>French</td>\n",
              "      <td>&gt;60</td>\n",
              "      <td>No</td>\n",
              "    </tr>\n",
              "  </tbody>\n",
              "</table>\n",
              "</div>\n",
              "      <button class=\"colab-df-convert\" onclick=\"convertToInteractive('df-61cd2c45-3d7d-496b-99bf-5195b410aae6')\"\n",
              "              title=\"Convert this dataframe to an interactive table.\"\n",
              "              style=\"display:none;\">\n",
              "        \n",
              "  <svg xmlns=\"http://www.w3.org/2000/svg\" height=\"24px\"viewBox=\"0 0 24 24\"\n",
              "       width=\"24px\">\n",
              "    <path d=\"M0 0h24v24H0V0z\" fill=\"none\"/>\n",
              "    <path d=\"M18.56 5.44l.94 2.06.94-2.06 2.06-.94-2.06-.94-.94-2.06-.94 2.06-2.06.94zm-11 1L8.5 8.5l.94-2.06 2.06-.94-2.06-.94L8.5 2.5l-.94 2.06-2.06.94zm10 10l.94 2.06.94-2.06 2.06-.94-2.06-.94-.94-2.06-.94 2.06-2.06.94z\"/><path d=\"M17.41 7.96l-1.37-1.37c-.4-.4-.92-.59-1.43-.59-.52 0-1.04.2-1.43.59L10.3 9.45l-7.72 7.72c-.78.78-.78 2.05 0 2.83L4 21.41c.39.39.9.59 1.41.59.51 0 1.02-.2 1.41-.59l7.78-7.78 2.81-2.81c.8-.78.8-2.07 0-2.86zM5.41 20L4 18.59l7.72-7.72 1.47 1.35L5.41 20z\"/>\n",
              "  </svg>\n",
              "      </button>\n",
              "      \n",
              "  <style>\n",
              "    .colab-df-container {\n",
              "      display:flex;\n",
              "      flex-wrap:wrap;\n",
              "      gap: 12px;\n",
              "    }\n",
              "\n",
              "    .colab-df-convert {\n",
              "      background-color: #E8F0FE;\n",
              "      border: none;\n",
              "      border-radius: 50%;\n",
              "      cursor: pointer;\n",
              "      display: none;\n",
              "      fill: #1967D2;\n",
              "      height: 32px;\n",
              "      padding: 0 0 0 0;\n",
              "      width: 32px;\n",
              "    }\n",
              "\n",
              "    .colab-df-convert:hover {\n",
              "      background-color: #E2EBFA;\n",
              "      box-shadow: 0px 1px 2px rgba(60, 64, 67, 0.3), 0px 1px 3px 1px rgba(60, 64, 67, 0.15);\n",
              "      fill: #174EA6;\n",
              "    }\n",
              "\n",
              "    [theme=dark] .colab-df-convert {\n",
              "      background-color: #3B4455;\n",
              "      fill: #D2E3FC;\n",
              "    }\n",
              "\n",
              "    [theme=dark] .colab-df-convert:hover {\n",
              "      background-color: #434B5C;\n",
              "      box-shadow: 0px 1px 3px 1px rgba(0, 0, 0, 0.15);\n",
              "      filter: drop-shadow(0px 1px 2px rgba(0, 0, 0, 0.3));\n",
              "      fill: #FFFFFF;\n",
              "    }\n",
              "  </style>\n",
              "\n",
              "      <script>\n",
              "        const buttonEl =\n",
              "          document.querySelector('#df-61cd2c45-3d7d-496b-99bf-5195b410aae6 button.colab-df-convert');\n",
              "        buttonEl.style.display =\n",
              "          google.colab.kernel.accessAllowed ? 'block' : 'none';\n",
              "\n",
              "        async function convertToInteractive(key) {\n",
              "          const element = document.querySelector('#df-61cd2c45-3d7d-496b-99bf-5195b410aae6');\n",
              "          const dataTable =\n",
              "            await google.colab.kernel.invokeFunction('convertToInteractive',\n",
              "                                                     [key], {});\n",
              "          if (!dataTable) return;\n",
              "\n",
              "          const docLinkHtml = 'Like what you see? Visit the ' +\n",
              "            '<a target=\"_blank\" href=https://colab.research.google.com/notebooks/data_table.ipynb>data table notebook</a>'\n",
              "            + ' to learn more about interactive tables.';\n",
              "          element.innerHTML = '';\n",
              "          dataTable['output_type'] = 'display_data';\n",
              "          await google.colab.output.renderOutput(dataTable, element);\n",
              "          const docLink = document.createElement('div');\n",
              "          docLink.innerHTML = docLinkHtml;\n",
              "          element.appendChild(docLink);\n",
              "        }\n",
              "      </script>\n",
              "    </div>\n",
              "  </div>\n",
              "  "
            ]
          },
          "metadata": {},
          "execution_count": 27
        }
      ]
    }
  ]
}